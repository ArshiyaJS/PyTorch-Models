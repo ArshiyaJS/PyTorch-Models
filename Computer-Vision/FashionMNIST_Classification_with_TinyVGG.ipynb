{
  "nbformat": 4,
  "nbformat_minor": 0,
  "metadata": {
    "colab": {
      "provenance": []
    },
    "kernelspec": {
      "name": "python3",
      "display_name": "Python 3"
    },
    "language_info": {
      "name": "python"
    }
  },
  "cells": [
    {
      "cell_type": "markdown",
      "source": [
        "# FashionMNIST Classification with TinyVGG\n",
        "\n",
        "**Objective**: Designed adn trained a lightweight convolutional neural network (TinyVGG) to classify FashionMNIST images, achieving **91.11% accuracy** while demonstrating core PyTorchh workflows, model optimisation, and evaluation\n",
        "\n",
        "**Key Skills**:\n",
        "1. PyTorch Proficiency: Model architecture design (nn.Module), data loading (DataLoader), and training loops\n",
        "\n",
        "2. CNN Architecture: Implemented a multi-layer CNN with ReLU activations, max pooling, and linear classification\n",
        "\n",
        "3. Research Best Practices: Hyperparameter tuning (batch size, learning rate), loss/accuracy tracking, and confusion matrix analysis\n",
        "\n",
        "4. Reproducibility: Used fixed random seeds, modular functions for training/evaluation, and visualization tools (Matplotlib, mlxtend)."
      ],
      "metadata": {
        "id": "qg1a3KSpLW0r"
      }
    },
    {
      "cell_type": "markdown",
      "source": [
        "# PyTorch workflow\n",
        "\n",
        "The workflow for this project starts off with\n",
        "1. Getting the Data ready: In our case, we import the data from `torchvision datasets`, and transform it to a tensor. We then use a `dataloader` to create batches of size 32 for the train and test datasets\n",
        "\n",
        "2. Build or Pick a Model: For our case, we decided to go for a `Baseline Model` of just the `flattener`, and the `linear layer`, and then built the `TinyVGG model architecture` on top of it. The typical structure of this is:\n",
        "\n",
        "`Input Layer` -> [`Convolutional layer` -> `activation layer` -> `pooling layer`] -> `Output layer`\n",
        "\n",
        "  Where the contents of the middle layers can be upscaled and repeated multiple times, but in our case, it is done only once\n",
        "\n",
        "3. We pick the loss function of `Cross Entropy` since it is a Multi Class Classfication and for the optimiser we pick `Stochastic Gradient Descent` since its generalization performance is good (or better compared to `Adam` or `AdamW`).\n",
        "\n",
        "4. We train the model through a loop. Starting off with 10 epochs for this test case, we put the model in `train mode`, do a `forward pass` and get the variables for prediction. Using the `loss function`, we quantify the difference betweent he actualy probability and the predicted probability. Then we `clear the gradients` of the parameters and do a `loss backward` and `fine tune the parameters` with the optimiser. We then evaluate it based on the `loss` and the `accuracy` of each epoch\n",
        "\n",
        "5. For the evaluation of the model we make predictions to see the probability the model provides for each class for an image, and take the index of the maximum probability value, and `plot a graph` showing the predicted and the true value. Additionally, we use a `confusion matrix` to evaluate the number of true positives, false positives, true negatives, and false negatives, and where the data point was actually marked"
      ],
      "metadata": {
        "id": "7oVqTIE2HKCB"
      }
    },
    {
      "cell_type": "code",
      "source": [
        "# dependencies\n",
        "import torch\n",
        "from torch import nn\n",
        "from torch.utils.data import DataLoader\n",
        "import random\n",
        "\n",
        "\n",
        "import torchvision\n",
        "from torchvision import datasets # the clothes dataset\n",
        "from torchvision.transforms import ToTensor\n",
        "\n",
        "import matplotlib.pyplot as plt\n",
        "\n",
        "try:\n",
        "    import torchmetrics, mlxtend\n",
        "    print(f\"mlxtend version: {mlxtend.__version__}\")\n",
        "    assert int(mlxtend.__version__.split(\".\")[1]) >= 19, \"mlxtend verison should be 0.19.0 or higher\"\n",
        "except:\n",
        "    !pip install -q torchmetrics -U mlxtend # <- Note: If you're using Google Colab, this may require restarting the runtime\n",
        "    import torchmetrics, mlxtend\n",
        "    print(f\"mlxtend version: {mlxtend.__version__}\")\n",
        "\n",
        "import mlxtend\n",
        "assert int(mlxtend.__version__.split(\".\")[1]) >= 19\n",
        "from tqdm.auto import tqdm\n"
      ],
      "metadata": {
        "id": "-N5gX3PPsCS7",
        "colab": {
          "base_uri": "https://localhost:8080/"
        },
        "outputId": "56abaede-c89e-45ad-d9d8-b1d4b11ba5a1"
      },
      "execution_count": 1,
      "outputs": [
        {
          "output_type": "stream",
          "name": "stdout",
          "text": [
            "\u001b[2K   \u001b[90m━━━━━━━━━━━━━━━━━━━━━━━━━━━━━━━━━━━━━━━━\u001b[0m \u001b[32m981.9/981.9 kB\u001b[0m \u001b[31m14.0 MB/s\u001b[0m eta \u001b[36m0:00:00\u001b[0m\n",
            "\u001b[2K   \u001b[90m━━━━━━━━━━━━━━━━━━━━━━━━━━━━━━━━━━━━━━━━\u001b[0m \u001b[32m363.4/363.4 MB\u001b[0m \u001b[31m4.6 MB/s\u001b[0m eta \u001b[36m0:00:00\u001b[0m\n",
            "\u001b[2K   \u001b[90m━━━━━━━━━━━━━━━━━━━━━━━━━━━━━━━━━━━━━━━━\u001b[0m \u001b[32m13.8/13.8 MB\u001b[0m \u001b[31m84.3 MB/s\u001b[0m eta \u001b[36m0:00:00\u001b[0m\n",
            "\u001b[2K   \u001b[90m━━━━━━━━━━━━━━━━━━━━━━━━━━━━━━━━━━━━━━━━\u001b[0m \u001b[32m24.6/24.6 MB\u001b[0m \u001b[31m76.5 MB/s\u001b[0m eta \u001b[36m0:00:00\u001b[0m\n",
            "\u001b[2K   \u001b[90m━━━━━━━━━━━━━━━━━━━━━━━━━━━━━━━━━━━━━━━━\u001b[0m \u001b[32m883.7/883.7 kB\u001b[0m \u001b[31m38.7 MB/s\u001b[0m eta \u001b[36m0:00:00\u001b[0m\n",
            "\u001b[2K   \u001b[90m━━━━━━━━━━━━━━━━━━━━━━━━━━━━━━━━━━━━━━━━\u001b[0m \u001b[32m664.8/664.8 MB\u001b[0m \u001b[31m2.2 MB/s\u001b[0m eta \u001b[36m0:00:00\u001b[0m\n",
            "\u001b[2K   \u001b[90m━━━━━━━━━━━━━━━━━━━━━━━━━━━━━━━━━━━━━━━━\u001b[0m \u001b[32m211.5/211.5 MB\u001b[0m \u001b[31m5.8 MB/s\u001b[0m eta \u001b[36m0:00:00\u001b[0m\n",
            "\u001b[2K   \u001b[90m━━━━━━━━━━━━━━━━━━━━━━━━━━━━━━━━━━━━━━━━\u001b[0m \u001b[32m56.3/56.3 MB\u001b[0m \u001b[31m12.2 MB/s\u001b[0m eta \u001b[36m0:00:00\u001b[0m\n",
            "\u001b[2K   \u001b[90m━━━━━━━━━━━━━━━━━━━━━━━━━━━━━━━━━━━━━━━━\u001b[0m \u001b[32m127.9/127.9 MB\u001b[0m \u001b[31m7.7 MB/s\u001b[0m eta \u001b[36m0:00:00\u001b[0m\n",
            "\u001b[2K   \u001b[90m━━━━━━━━━━━━━━━━━━━━━━━━━━━━━━━━━━━━━━━━\u001b[0m \u001b[32m207.5/207.5 MB\u001b[0m \u001b[31m5.9 MB/s\u001b[0m eta \u001b[36m0:00:00\u001b[0m\n",
            "\u001b[2K   \u001b[90m━━━━━━━━━━━━━━━━━━━━━━━━━━━━━━━━━━━━━━━━\u001b[0m \u001b[32m21.1/21.1 MB\u001b[0m \u001b[31m87.5 MB/s\u001b[0m eta \u001b[36m0:00:00\u001b[0m\n",
            "\u001b[?25hmlxtend version: 0.23.4\n"
          ]
        }
      ]
    },
    {
      "cell_type": "markdown",
      "source": [
        "The `FashionMNIST dataset` (60k grayscale images) is loaded with `ToTensor()` to convert PIL images to PyTorch tensors and normalized to [0, 1].\n",
        "\n",
        "`DataLoader` shuffles training data to reduce batch bias and parallelizes loading"
      ],
      "metadata": {
        "id": "Vn227MB9Mlo-"
      }
    },
    {
      "cell_type": "code",
      "source": [
        "# datasets\n",
        "train = datasets.FashionMNIST(root=\"data\", train=True, download=True, transform=ToTensor())\n",
        "\n",
        "test = datasets.FashionMNIST(root=\"data\", train=False, download=True, transform=ToTensor())"
      ],
      "metadata": {
        "id": "NIM0-nIiQ3JG",
        "colab": {
          "base_uri": "https://localhost:8080/"
        },
        "outputId": "275b9c76-85e1-498b-80ab-af828cd5320a"
      },
      "execution_count": 2,
      "outputs": [
        {
          "output_type": "stream",
          "name": "stderr",
          "text": [
            "100%|██████████| 26.4M/26.4M [00:01<00:00, 17.6MB/s]\n",
            "100%|██████████| 29.5k/29.5k [00:00<00:00, 312kB/s]\n",
            "100%|██████████| 4.42M/4.42M [00:00<00:00, 4.99MB/s]\n",
            "100%|██████████| 5.15k/5.15k [00:00<00:00, 13.2MB/s]\n"
          ]
        }
      ]
    },
    {
      "cell_type": "code",
      "source": [
        "len(train), len(test)"
      ],
      "metadata": {
        "colab": {
          "base_uri": "https://localhost:8080/"
        },
        "id": "cEk0XygGR8Au",
        "outputId": "5ed760ee-da2b-4e8c-fa7b-fbac515cbe89"
      },
      "execution_count": 3,
      "outputs": [
        {
          "output_type": "execute_result",
          "data": {
            "text/plain": [
              "(60000, 10000)"
            ]
          },
          "metadata": {},
          "execution_count": 3
        }
      ]
    },
    {
      "cell_type": "code",
      "source": [
        "for i in range(10):\n",
        "  print(\"for index\", i, \"the labels is\", train.classes[i])\n",
        "class_names = train.classes"
      ],
      "metadata": {
        "colab": {
          "base_uri": "https://localhost:8080/"
        },
        "id": "PezbDBhETrgd",
        "outputId": "1c50f41e-c2a5-4481-fbaa-72f13ad8597e"
      },
      "execution_count": 4,
      "outputs": [
        {
          "output_type": "stream",
          "name": "stdout",
          "text": [
            "for index 0 the labels is T-shirt/top\n",
            "for index 1 the labels is Trouser\n",
            "for index 2 the labels is Pullover\n",
            "for index 3 the labels is Dress\n",
            "for index 4 the labels is Coat\n",
            "for index 5 the labels is Sandal\n",
            "for index 6 the labels is Shirt\n",
            "for index 7 the labels is Sneaker\n",
            "for index 8 the labels is Bag\n",
            "for index 9 the labels is Ankle boot\n"
          ]
        }
      ]
    },
    {
      "cell_type": "code",
      "source": [
        "image = train[0][0]\n",
        "label = train[0][1]\n",
        "\n",
        "image.shape, label # since it is grey scale, the color channel is 1"
      ],
      "metadata": {
        "colab": {
          "base_uri": "https://localhost:8080/"
        },
        "id": "OJtRuaqQUlbl",
        "outputId": "66d050cf-c9e9-4b16-9530-682bf3a90965"
      },
      "execution_count": 5,
      "outputs": [
        {
          "output_type": "execute_result",
          "data": {
            "text/plain": [
              "(torch.Size([1, 28, 28]), 9)"
            ]
          },
          "metadata": {},
          "execution_count": 5
        }
      ]
    },
    {
      "cell_type": "code",
      "source": [
        "# visualise to see whether it is a boot or not-\n",
        "plt.imshow(image.squeeze(), cmap=\"gray\") # remove one dimension ? - remove the color channel\n",
        "plt.title(class_names[label])"
      ],
      "metadata": {
        "colab": {
          "base_uri": "https://localhost:8080/",
          "height": 469
        },
        "id": "fb6Jda6tUysE",
        "outputId": "42b6453c-3e9d-411d-bb5e-5082868a9ba4"
      },
      "execution_count": 6,
      "outputs": [
        {
          "output_type": "execute_result",
          "data": {
            "text/plain": [
              "Text(0.5, 1.0, 'Ankle boot')"
            ]
          },
          "metadata": {},
          "execution_count": 6
        },
        {
          "output_type": "display_data",
          "data": {
            "text/plain": [
              "<Figure size 640x480 with 1 Axes>"
            ],
            "image/png": "[encoded data removed]"
          },
          "metadata": {}
        }
      ]
    },
    {
      "cell_type": "code",
      "source": [
        "# need the dataloader for the batch size and the shuffle mode?\n",
        "\n",
        "batch_size = 32 # usually people go for this number dk why\n",
        "\n",
        "train_dataloader = DataLoader(batch_size=32, shuffle=True, dataset=train)\n",
        "test_dataloader = DataLoader(test, 32, False)"
      ],
      "metadata": {
        "id": "aZ4-QMR-V8b8"
      },
      "execution_count": 7,
      "outputs": []
    },
    {
      "cell_type": "code",
      "source": [
        "next(iter(train_dataloader))[0].shape, next(iter(train_dataloader))[1].shape\n",
        "# the batch, color channel, height, width\n",
        "# label size"
      ],
      "metadata": {
        "colab": {
          "base_uri": "https://localhost:8080/"
        },
        "id": "ypgxNKRTXAGt",
        "outputId": "d43bf85e-70e7-4ec3-abb6-90439778ade6"
      },
      "execution_count": 8,
      "outputs": [
        {
          "output_type": "execute_result",
          "data": {
            "text/plain": [
              "(torch.Size([32, 1, 28, 28]), torch.Size([32]))"
            ]
          },
          "metadata": {},
          "execution_count": 8
        }
      ]
    },
    {
      "cell_type": "code",
      "source": [
        "image,label = next(iter(train_dataloader))\n",
        "image = image[0][0].squeeze()\n",
        "image = image.squeeze()\n",
        "\n",
        "label = label[0]\n",
        "label = class_names[label]\n",
        "\n",
        "plt.imshow(image.squeeze(), cmap=\"gray\") # remove one dimension why? - remove the color channel\n",
        "plt.title(label)"
      ],
      "metadata": {
        "colab": {
          "base_uri": "https://localhost:8080/",
          "height": 469
        },
        "id": "Gs-CFH-IXRTV",
        "outputId": "d3cbb896-221a-4289-8e1a-786c21a1d211"
      },
      "execution_count": 9,
      "outputs": [
        {
          "output_type": "execute_result",
          "data": {
            "text/plain": [
              "Text(0.5, 1.0, 'Pullover')"
            ]
          },
          "metadata": {},
          "execution_count": 9
        },
        {
          "output_type": "display_data",
          "data": {
            "text/plain": [
              "<Figure size 640x480 with 1 Axes>"
            ],
            "image/png": "[encoded data removed]"
          },
          "metadata": {}
        }
      ]
    },
    {
      "cell_type": "markdown",
      "source": [
        "The TinyVGG model has the following modules in it:\n",
        "1. `Conv2d()`: Applying a 2D convolution over an input composed of several input planes. We use 2D since the gray scale images are two-dimensional data\n",
        "\n",
        "2. `ReLu()`: This module introduces Non-Linearity as an activation function. It accelerates the convergence compared to sigmoid or tanh by mitigating vanishing gradients\n",
        "\n",
        "3. `MaxPool2d()`: This module selects the maximm value within the specified window and discards the rest to reduce dimensionality and emphasise on the more prominent features; it shrinks the feature map size and preserves translational invariance\n",
        "\n",
        "4. `Flatten()`: mulitplies the height and the width provided in the tensor to make it a one-dimensional vector, used for classification or regression\n"
      ],
      "metadata": {
        "id": "foC2XwNuMzbG"
      }
    },
    {
      "cell_type": "code",
      "source": [
        "# the baseline model\n",
        "class BaselineModel(nn.Module): # TinyVGG model\n",
        "  def __init__(self, input_dimensions, output_dimensions, nodes):\n",
        "    super().__init__()\n",
        "\n",
        "    self.firstLayer = nn.Sequential(\n",
        "        nn.Conv2d(input_dimensions, nodes, 3, 1,1),\n",
        "        nn.ReLU(),\n",
        "        nn.Conv2d(in_channels=nodes, out_channels=nodes, kernel_size=3, stride=1, padding=1),\n",
        "        nn.ReLU(),\n",
        "        nn.MaxPool2d(kernel_size=2) # default stride is the same as the kernel size\n",
        "    )\n",
        "\n",
        "    self.secondLayer = nn.Sequential(\n",
        "        nn.Conv2d(nodes, nodes, 3, 1,  padding=1),\n",
        "        nn.ReLU(),\n",
        "        nn.Conv2d(in_channels=nodes, out_channels=nodes, kernel_size=3, stride=1,  padding=1),\n",
        "        nn.ReLU(),\n",
        "        nn.MaxPool2d(kernel_size=2) # default stride is the same as the kernel size\n",
        "    )\n",
        "\n",
        "    self.lastLayer = nn.Sequential(\n",
        "        nn.Flatten(),\n",
        "        nn.Linear(nodes*7*7, output_dimensions)\n",
        "    )\n",
        "\n",
        "  def forward(self, x):\n",
        "    x = self.firstLayer(x)\n",
        "    x = self.secondLayer(x)\n",
        "    x = self.lastLayer(x)\n",
        "\n",
        "    return x"
      ],
      "metadata": {
        "id": "2sRF5e-XXzzN"
      },
      "execution_count": 10,
      "outputs": []
    },
    {
      "cell_type": "markdown",
      "source": [
        "For the **Loss function**, we use a *Cross Entropy Loss* `CrossEntropyLoss()` which is a standard for multi class classification along with *Stochastic Gradient Descent* `SGD()` with a high learning rate `lr=0.1` for faster convergence\n",
        "\n",
        "We do not use `Adam` or `AdamW` since the dataset is not that big, and we would like to keep the baseline model simple. Additionally, since the dataset is small, `SGD` generalises marginally better than `Adam` or `AdamW` and using the latter owuld be overkill since it uses per-parameter scaling"
      ],
      "metadata": {
        "id": "lw88QtWFOm9o"
      }
    },
    {
      "cell_type": "code",
      "source": [
        "# loss function and optimiser\n",
        "model0 = BaselineModel(1, len(class_names), 10)\n",
        "\n",
        "lossFunction = nn.CrossEntropyLoss()\n",
        "optimiserFunction = torch.optim.SGD(model0.parameters(), lr=0.1)"
      ],
      "metadata": {
        "id": "3F0Lnr764V-Z"
      },
      "execution_count": 11,
      "outputs": []
    },
    {
      "cell_type": "markdown",
      "source": [
        "The accuracy function `accuracy_fn` sees how many predicted values are true values, and provides a percentage for it"
      ],
      "metadata": {
        "id": "UyKOOk3vP7Yw"
      }
    },
    {
      "cell_type": "code",
      "source": [
        "def accuracy_fn(y_true, y_pred):\n",
        "    correct = torch.eq(y_true, y_pred).sum().item() # torch.eq() calculates where two tensors are equal\n",
        "    acc = (correct / len(y_pred)) * 100\n",
        "    return acc"
      ],
      "metadata": {
        "id": "UEJq86VK6CHN"
      },
      "execution_count": 12,
      "outputs": []
    },
    {
      "cell_type": "markdown",
      "source": [
        "The key highlights of the training loop are:\n",
        "\n",
        "1. the Gradient Management with `optimiserFunction.zero_grad()` which prevents the accumulation between batches.\n",
        "\n",
        "2. Additionally we track the metrics epoch-wise by calculating the `loss rate` and the `accuracy` with the accuracy function and the loss function `accuracy_fn` and `loss` respectively to diagnose underfitting\n",
        "\n",
        "3. Finally we use the `inference_mode()` to disable gradient computation during testing to reduce memory overhead"
      ],
      "metadata": {
        "id": "KPX0-PVRQS-b"
      }
    },
    {
      "cell_type": "code",
      "source": [
        "def train_step(model: torch.nn.Module,\n",
        "               data_loader: torch.utils.data.DataLoader,\n",
        "               loss_fn: torch.nn.Module,\n",
        "               optimizer: torch.optim.Optimizer,\n",
        "               accuracy_fn,\n",
        "               ):\n",
        "    train_loss, train_acc = 0, 0\n",
        "\n",
        "    for batch, (X, y) in enumerate(data_loader):\n",
        "        # Send data to GPU\n",
        "        X, y = X, y\n",
        "\n",
        "        # 1. Forward pass\n",
        "        y_pred = model(X)\n",
        "\n",
        "        # 2. Calculate loss\n",
        "        loss = loss_fn(y_pred, y)\n",
        "        train_loss += loss\n",
        "        train_acc += accuracy_fn(y_true=y,\n",
        "                                 y_pred=y_pred.argmax(dim=1)) # Go from logits -> pred labels\n",
        "\n",
        "        # 3. Optimizer zero grad\n",
        "        optimizer.zero_grad()\n",
        "\n",
        "        # 4. Loss backward\n",
        "        loss.backward()\n",
        "\n",
        "        # 5. Optimizer step\n",
        "        optimizer.step()\n",
        "\n",
        "    # Calculate loss and accuracy per epoch and print out what's happening\n",
        "    train_loss /= len(data_loader)\n",
        "    train_acc /= len(data_loader)\n",
        "    print(f\"Train loss: {train_loss:.5f} | Train accuracy: {train_acc:.2f}%\")"
      ],
      "metadata": {
        "id": "oyk1lEyF565I"
      },
      "execution_count": 13,
      "outputs": []
    },
    {
      "cell_type": "code",
      "source": [
        "# testing loop\n",
        "epochs = 10\n",
        "\n",
        "for epoch in range(epochs):\n",
        "  train_step(\n",
        "      model0, train_dataloader, lossFunction, optimiserFunction, accuracy_fn\n",
        "  )\n"
      ],
      "metadata": {
        "colab": {
          "base_uri": "https://localhost:8080/"
        },
        "id": "t2_JCAKx5Asn",
        "outputId": "a0622acb-07b8-4847-c5e6-b84ce17683e2"
      },
      "execution_count": 14,
      "outputs": [
        {
          "output_type": "stream",
          "name": "stdout",
          "text": [
            "Train loss: 0.69829 | Train accuracy: 74.82%\n",
            "Train loss: 0.34693 | Train accuracy: 87.64%\n",
            "Train loss: 0.30854 | Train accuracy: 88.91%\n",
            "Train loss: 0.28676 | Train accuracy: 89.67%\n",
            "Train loss: 0.27696 | Train accuracy: 90.02%\n",
            "Train loss: 0.26598 | Train accuracy: 90.42%\n",
            "Train loss: 0.25701 | Train accuracy: 90.69%\n",
            "Train loss: 0.25014 | Train accuracy: 90.89%\n",
            "Train loss: 0.24525 | Train accuracy: 91.05%\n",
            "Train loss: 0.24045 | Train accuracy: 91.23%\n"
          ]
        }
      ]
    },
    {
      "cell_type": "code",
      "source": [
        "def eval_model(model: torch.nn.Module,\n",
        "               data_loader: torch.utils.data.DataLoader,\n",
        "               loss_fn: torch.nn.Module,\n",
        "               accuracy_fn):\n",
        "\n",
        "    loss, acc = 0, 0\n",
        "    model.eval()\n",
        "    with torch.inference_mode():\n",
        "        for X, y in data_loader:\n",
        "            # Make predictions with the model\n",
        "            y_pred = model(X)\n",
        "\n",
        "            # Accumulate the loss and accuracy values per batch\n",
        "            loss += loss_fn(y_pred, y)\n",
        "            acc += accuracy_fn(y_true=y,\n",
        "                                y_pred=y_pred.argmax(dim=1)) # For accuracy, need the prediction labels (logits -> pred_prob -> pred_labels)\n",
        "\n",
        "        # Scale loss and acc to find the average loss/acc per batch\n",
        "        loss /= len(data_loader)\n",
        "        acc /= len(data_loader)\n",
        "\n",
        "    return {\"model_name\": model.__class__.__name__, # only works when model was created with a class\n",
        "            \"model_loss\": loss.item(),\n",
        "            \"model_acc\": acc}\n"
      ],
      "metadata": {
        "id": "EqbIwEJv73WB"
      },
      "execution_count": 15,
      "outputs": []
    },
    {
      "cell_type": "code",
      "source": [
        "# evaluation\n",
        "model_0_results = eval_model(model=model0, data_loader=test_dataloader,\n",
        "    loss_fn=lossFunction, accuracy_fn=accuracy_fn\n",
        ")\n",
        "\n",
        "model_0_results"
      ],
      "metadata": {
        "colab": {
          "base_uri": "https://localhost:8080/"
        },
        "id": "vNxltJB36kni",
        "outputId": "4a59245d-bd35-4dba-cf2e-ba60bde3f8fc"
      },
      "execution_count": 16,
      "outputs": [
        {
          "output_type": "execute_result",
          "data": {
            "text/plain": [
              "{'model_name': 'BaselineModel',\n",
              " 'model_loss': 0.2923891246318817,\n",
              " 'model_acc': 89.23722044728434}"
            ]
          },
          "metadata": {},
          "execution_count": 16
        }
      ]
    },
    {
      "cell_type": "markdown",
      "source": [
        "To visualise the data points, we take the probability of the predictions. For this, we using the `logit values` from the model and using `softmax`, ensure that the sum of the values equal 1 to simalute a probability out of 1.\n",
        "\n",
        "Using this probability, we take the `maximum value` as the predicted value and compare it to the true value using a `graph` for visual representation.\n",
        "\n",
        "We also use a `Confusion Matrix` and `mlxtend` to plot the confusion matrix with the probability data points we acquired"
      ],
      "metadata": {
        "id": "LMhnwqULRLjf"
      }
    },
    {
      "cell_type": "code",
      "source": [
        "def make_predictions(model: torch.nn.Module, data: list):\n",
        "    pred_probs = []\n",
        "    model.eval()\n",
        "    with torch.inference_mode():\n",
        "        for sample in data:\n",
        "            sample = torch.unsqueeze(sample, dim=0) # Add an extra dimension and send sample to device\n",
        "\n",
        "            # Forward pass\n",
        "            pred_logit = model(sample)\n",
        "\n",
        "            # Get prediction probability (logit -> prediction probability)\n",
        "            pred_prob = torch.softmax(pred_logit.squeeze(), dim=0)\n",
        "\n",
        "            pred_probs.append(pred_prob.cpu())\n",
        "\n",
        "    return torch.stack(pred_probs)"
      ],
      "metadata": {
        "id": "it2IlJ-T9Yyv"
      },
      "execution_count": 17,
      "outputs": []
    },
    {
      "cell_type": "code",
      "source": [
        "test_samples = []\n",
        "test_labels = []\n",
        "for sample, label in random.sample(list(test), k=9):\n",
        "    test_samples.append(sample)\n",
        "    test_labels.append(label)\n",
        "\n",
        "print(f\"Test sample image shape: {test_samples[0].shape}\\nTest sample label: {test_labels[0]} ({class_names[test_labels[0]]})\")"
      ],
      "metadata": {
        "colab": {
          "base_uri": "https://localhost:8080/"
        },
        "id": "dAX7vpYQ9o9X",
        "outputId": "e28a6ce6-b07c-45dc-8d51-6e61f4b4ed41"
      },
      "execution_count": 18,
      "outputs": [
        {
          "output_type": "stream",
          "name": "stdout",
          "text": [
            "Test sample image shape: torch.Size([1, 28, 28])\n",
            "Test sample label: 9 (Ankle boot)\n"
          ]
        }
      ]
    },
    {
      "cell_type": "code",
      "source": [
        "pred_probs= make_predictions(model=model0,\n",
        "                             data=test_samples)\n",
        "pred_classes = pred_probs.argmax(dim=1)"
      ],
      "metadata": {
        "id": "P6ckTNs59yie"
      },
      "execution_count": 19,
      "outputs": []
    },
    {
      "cell_type": "code",
      "source": [
        "# visualise\n",
        "\n",
        "plt.figure(figsize=(9, 9))\n",
        "nrows = 3\n",
        "ncols = 3\n",
        "for i, sample in enumerate(test_samples):\n",
        "  # Create a subplot\n",
        "  plt.subplot(nrows, ncols, i+1)\n",
        "\n",
        "  # Plot the target image\n",
        "  plt.imshow(sample.squeeze(), cmap=\"gray\")\n",
        "\n",
        "  # Find the prediction label (in text form, e.g. \"Sandal\")\n",
        "  pred_label = class_names[pred_classes[i]]\n",
        "\n",
        "  # Get the truth label (in text form, e.g. \"T-shirt\")\n",
        "  truth_label = class_names[test_labels[i]]\n",
        "\n",
        "  # Create the title text of the plot\n",
        "  title_text = f\"Pred: {pred_label} | Truth: {truth_label}\"\n",
        "\n",
        "  # Check for equality and change title colour accordingly\n",
        "  if pred_label == truth_label:\n",
        "      plt.title(title_text, fontsize=10, c=\"g\") # green text if correct\n",
        "  else:\n",
        "      plt.title(title_text, fontsize=10, c=\"r\") # red text if wrong\n",
        "  plt.axis(False);"
      ],
      "metadata": {
        "colab": {
          "base_uri": "https://localhost:8080/",
          "height": 749
        },
        "id": "5Itf_Mp2-RJt",
        "outputId": "d41c994a-8a82-4d31-f652-59e0d22e4170"
      },
      "execution_count": 20,
      "outputs": [
        {
          "output_type": "display_data",
          "data": {
            "text/plain": [
              "<Figure size 900x900 with 9 Axes>"
            ],
            "image/png": "[encoded data removed]"
          },
          "metadata": {}
        }
      ]
    },
    {
      "cell_type": "code",
      "source": [
        "y_preds = []\n",
        "model0.eval()\n",
        "with torch.inference_mode():\n",
        "  for X, y in tqdm(test_dataloader, desc=\"Making predictions\"):\n",
        "    # Send data and targets to target device\n",
        "    X, y = X, y\n",
        "    # Do the forward pass\n",
        "    y_logit = model0(X)\n",
        "    # Turn predictions from logits -> prediction probabilities -> predictions labels\n",
        "    y_pred = torch.softmax(y_logit, dim=1).argmax(dim=1) # note: perform softmax on the \"logits\" dimension, not \"batch\" dimension (in this case we have a batch size of 32, so can perform on dim=1)\n",
        "    # Put predictions on CPU for evaluation\n",
        "    y_preds.append(y_pred.cpu())\n",
        "# Concatenate list of predictions into a tensor\n",
        "y_pred_tensor = torch.cat(y_preds)"
      ],
      "metadata": {
        "colab": {
          "base_uri": "https://localhost:8080/",
          "height": 49,
          "referenced_widgets": [
            "de91cec463a54ffd84006db0bdd08585",
            "8cb7febdfe1e4bff91507b1abaf515b2",
            "f07a204a469c4cc6811e9190e7e694d5",
            "c5d9fdb234ec48b6978b04b5c7fe3c6f",
            "4f6859dd00bb42088631eb6802bb6cf5",
            "9514123213a04005bc76d41e634a7b46",
            "e6631837ea054e8cbe7bd9cfec570dbc",
            "41d283f04fe845178da192a13434c87d",
            "5f675249391c47eeb06d6c5c1ec48fc6",
            "9a11a7059ffc4d419a544e0cd01e2295",
            "f521b6a6cafd45299f59ed3af1885d6f"
          ]
        },
        "id": "G7C8ZPtG_c2w",
        "outputId": "242d3a5a-3f59-4663-bce6-a9c50d2b09d3"
      },
      "execution_count": 21,
      "outputs": [
        {
          "output_type": "display_data",
          "data": {
            "text/plain": [
              "Making predictions:   0%|          | 0/313 [00:00<?, ?it/s]"
            ],
            "application/vnd.jupyter.widget-view+json": {
              "version_major": 2,
              "version_minor": 0,
              "model_id": "de91cec463a54ffd84006db0bdd08585"
            }
          },
          "metadata": {}
        }
      ]
    },
    {
      "cell_type": "code",
      "source": [
        "from torchmetrics import ConfusionMatrix\n",
        "from mlxtend.plotting import plot_confusion_matrix\n",
        "\n",
        "# 2. Setup confusion matrix instance and compare predictions to targets\n",
        "confmat = ConfusionMatrix(num_classes=len(class_names), task='multiclass')\n",
        "confmat_tensor = confmat(preds=y_pred_tensor,\n",
        "                         target=test.targets)\n",
        "\n",
        "# 3. Plot the confusion matrix\n",
        "fig, ax = plot_confusion_matrix(\n",
        "    conf_mat=confmat_tensor.numpy(), # matplotlib likes working with NumPy\n",
        "    class_names=class_names, # turn the row and column labels into class names\n",
        "    figsize=(10, 7)\n",
        ");"
      ],
      "metadata": {
        "colab": {
          "base_uri": "https://localhost:8080/",
          "height": 667
        },
        "id": "AeCpVF69_M1u",
        "outputId": "a4032af6-2ca8-41a4-af7f-0476efdf320f"
      },
      "execution_count": 22,
      "outputs": [
        {
          "output_type": "display_data",
          "data": {
            "text/plain": [
              "<Figure size 1000x700 with 1 Axes>"
            ],
            "image/png": "[encoded data removed]"
          },
          "metadata": {}
        }
      ]
    },
    {
      "cell_type": "code",
      "source": [
        "# Clean notebook metadata to prevent widget errors when uploading to GitHub\n",
        "from IPython.display import Javascript\n",
        "\n",
        "def clean_notebook_metadata():\n",
        "    display(Javascript('''\n",
        "    const metadata = JSON.parse(IPython.notebook.metadata);\n",
        "    if (metadata.hasOwnProperty('widgets')) {\n",
        "        delete metadata.widgets;\n",
        "        IPython.notebook.metadata = JSON.stringify(metadata);\n",
        "    }\n",
        "    '''))\n",
        "\n",
        "clean_notebook_metadata()"
      ],
      "metadata": {
        "id": "ZX1JYAR7_v82",
        "colab": {
          "base_uri": "https://localhost:8080/",
          "height": 17
        },
        "outputId": "0748fa1d-872a-4b3f-9398-3703442bd60a"
      },
      "execution_count": 24,
      "outputs": [
        {
          "output_type": "display_data",
          "data": {
            "text/plain": [
              "<IPython.core.display.Javascript object>"
            ],
            "application/javascript": [
              "\n",
              "    const metadata = JSON.parse(IPython.notebook.metadata);\n",
              "    if (metadata.hasOwnProperty('widgets')) {\n",
              "        delete metadata.widgets;\n",
              "        IPython.notebook.metadata = JSON.stringify(metadata);\n",
              "    }\n",
              "    "
            ]
          },
          "metadata": {}
        }
      ]
    },
    {
      "cell_type": "code",
      "source": [
        "# Clear all output and widget states\n",
        "from IPython.display import clear_output\n",
        "clear_output()"
      ],
      "metadata": {
        "id": "yNb3kMZJ_Qww"
      },
      "execution_count": 25,
      "outputs": []
    },
    {
      "cell_type": "code",
      "source": [],
      "metadata": {
        "id": "sEL7YUQl_RMO"
      },
      "execution_count": null,
      "outputs": []
    }
  ]
}
