{
  "nbformat": 4,
  "nbformat_minor": 0,
  "metadata": {
    "colab": {
      "provenance": []
    },
    "kernelspec": {
      "name": "python3",
      "display_name": "Python 3"
    },
    "language_info": {
      "name": "python"
    },
    "widgets": {
      "application/vnd.jupyter.widget-state+json": {
        "85e65160f1d74e718121a3741a8e8fb3": {
          "model_module": "@jupyter-widgets/controls",
          "model_name": "HBoxModel",
          "model_module_version": "1.5.0",
          "state": {
            "_dom_classes": [],
            "_model_module": "@jupyter-widgets/controls",
            "_model_module_version": "1.5.0",
            "_model_name": "HBoxModel",
            "_view_count": null,
            "_view_module": "@jupyter-widgets/controls",
            "_view_module_version": "1.5.0",
            "_view_name": "HBoxView",
            "box_style": "",
            "children": [
              "IPY_MODEL_0b6ea29adcc84628bf718256f2372e33",
              "IPY_MODEL_4ada78791525416d944d34a9f5f434d5",
              "IPY_MODEL_7486d95b5b8f4385b72908add7a5984b"
            ],
            "layout": "IPY_MODEL_3ece92220ef24a3f8f9364c3486b0bc3"
          }
        },
        "0b6ea29adcc84628bf718256f2372e33": {
          "model_module": "@jupyter-widgets/controls",
          "model_name": "HTMLModel",
          "model_module_version": "1.5.0",
          "state": {
            "_dom_classes": [],
            "_model_module": "@jupyter-widgets/controls",
            "_model_module_version": "1.5.0",
            "_model_name": "HTMLModel",
            "_view_count": null,
            "_view_module": "@jupyter-widgets/controls",
            "_view_module_version": "1.5.0",
            "_view_name": "HTMLView",
            "description": "",
            "description_tooltip": null,
            "layout": "IPY_MODEL_4b5de6ea50f6480fa42b6d76f3269280",
            "placeholder": "​",
            "style": "IPY_MODEL_c5c2f0525a0b48af8165a784f7896356",
            "value": "Making predictions: 100%"
          }
        },
        "4ada78791525416d944d34a9f5f434d5": {
          "model_module": "@jupyter-widgets/controls",
          "model_name": "FloatProgressModel",
          "model_module_version": "1.5.0",
          "state": {
            "_dom_classes": [],
            "_model_module": "@jupyter-widgets/controls",
            "_model_module_version": "1.5.0",
            "_model_name": "FloatProgressModel",
            "_view_count": null,
            "_view_module": "@jupyter-widgets/controls",
            "_view_module_version": "1.5.0",
            "_view_name": "ProgressView",
            "bar_style": "success",
            "description": "",
            "description_tooltip": null,
            "layout": "IPY_MODEL_f891537d1e054389848c2cec69279068",
            "max": 313,
            "min": 0,
            "orientation": "horizontal",
            "style": "IPY_MODEL_ec00c4fdd76249ee8c779866d3053d3a",
            "value": 313
          }
        },
        "7486d95b5b8f4385b72908add7a5984b": {
          "model_module": "@jupyter-widgets/controls",
          "model_name": "HTMLModel",
          "model_module_version": "1.5.0",
          "state": {
            "_dom_classes": [],
            "_model_module": "@jupyter-widgets/controls",
            "_model_module_version": "1.5.0",
            "_model_name": "HTMLModel",
            "_view_count": null,
            "_view_module": "@jupyter-widgets/controls",
            "_view_module_version": "1.5.0",
            "_view_name": "HTMLView",
            "description": "",
            "description_tooltip": null,
            "layout": "IPY_MODEL_b722c763861f4becbe91f686515051ad",
            "placeholder": "​",
            "style": "IPY_MODEL_fd96e18d36304e6980328bbbc0d994d9",
            "value": " 313/313 [00:04&lt;00:00, 71.96it/s]"
          }
        },
        "3ece92220ef24a3f8f9364c3486b0bc3": {
          "model_module": "@jupyter-widgets/base",
          "model_name": "LayoutModel",
          "model_module_version": "1.2.0",
          "state": {
            "_model_module": "@jupyter-widgets/base",
            "_model_module_version": "1.2.0",
            "_model_name": "LayoutModel",
            "_view_count": null,
            "_view_module": "@jupyter-widgets/base",
            "_view_module_version": "1.2.0",
            "_view_name": "LayoutView",
            "align_content": null,
            "align_items": null,
            "align_self": null,
            "border": null,
            "bottom": null,
            "display": null,
            "flex": null,
            "flex_flow": null,
            "grid_area": null,
            "grid_auto_columns": null,
            "grid_auto_flow": null,
            "grid_auto_rows": null,
            "grid_column": null,
            "grid_gap": null,
            "grid_row": null,
            "grid_template_areas": null,
            "grid_template_columns": null,
            "grid_template_rows": null,
            "height": null,
            "justify_content": null,
            "justify_items": null,
            "left": null,
            "margin": null,
            "max_height": null,
            "max_width": null,
            "min_height": null,
            "min_width": null,
            "object_fit": null,
            "object_position": null,
            "order": null,
            "overflow": null,
            "overflow_x": null,
            "overflow_y": null,
            "padding": null,
            "right": null,
            "top": null,
            "visibility": null,
            "width": null
          }
        },
        "4b5de6ea50f6480fa42b6d76f3269280": {
          "model_module": "@jupyter-widgets/base",
          "model_name": "LayoutModel",
          "model_module_version": "1.2.0",
          "state": {
            "_model_module": "@jupyter-widgets/base",
            "_model_module_version": "1.2.0",
            "_model_name": "LayoutModel",
            "_view_count": null,
            "_view_module": "@jupyter-widgets/base",
            "_view_module_version": "1.2.0",
            "_view_name": "LayoutView",
            "align_content": null,
            "align_items": null,
            "align_self": null,
            "border": null,
            "bottom": null,
            "display": null,
            "flex": null,
            "flex_flow": null,
            "grid_area": null,
            "grid_auto_columns": null,
            "grid_auto_flow": null,
            "grid_auto_rows": null,
            "grid_column": null,
            "grid_gap": null,
            "grid_row": null,
            "grid_template_areas": null,
            "grid_template_columns": null,
            "grid_template_rows": null,
            "height": null,
            "justify_content": null,
            "justify_items": null,
            "left": null,
            "margin": null,
            "max_height": null,
            "max_width": null,
            "min_height": null,
            "min_width": null,
            "object_fit": null,
            "object_position": null,
            "order": null,
            "overflow": null,
            "overflow_x": null,
            "overflow_y": null,
            "padding": null,
            "right": null,
            "top": null,
            "visibility": null,
            "width": null
          }
        },
        "c5c2f0525a0b48af8165a784f7896356": {
          "model_module": "@jupyter-widgets/controls",
          "model_name": "DescriptionStyleModel",
          "model_module_version": "1.5.0",
          "state": {
            "_model_module": "@jupyter-widgets/controls",
            "_model_module_version": "1.5.0",
            "_model_name": "DescriptionStyleModel",
            "_view_count": null,
            "_view_module": "@jupyter-widgets/base",
            "_view_module_version": "1.2.0",
            "_view_name": "StyleView",
            "description_width": ""
          }
        },
        "f891537d1e054389848c2cec69279068": {
          "model_module": "@jupyter-widgets/base",
          "model_name": "LayoutModel",
          "model_module_version": "1.2.0",
          "state": {
            "_model_module": "@jupyter-widgets/base",
            "_model_module_version": "1.2.0",
            "_model_name": "LayoutModel",
            "_view_count": null,
            "_view_module": "@jupyter-widgets/base",
            "_view_module_version": "1.2.0",
            "_view_name": "LayoutView",
            "align_content": null,
            "align_items": null,
            "align_self": null,
            "border": null,
            "bottom": null,
            "display": null,
            "flex": null,
            "flex_flow": null,
            "grid_area": null,
            "grid_auto_columns": null,
            "grid_auto_flow": null,
            "grid_auto_rows": null,
            "grid_column": null,
            "grid_gap": null,
            "grid_row": null,
            "grid_template_areas": null,
            "grid_template_columns": null,
            "grid_template_rows": null,
            "height": null,
            "justify_content": null,
            "justify_items": null,
            "left": null,
            "margin": null,
            "max_height": null,
            "max_width": null,
            "min_height": null,
            "min_width": null,
            "object_fit": null,
            "object_position": null,
            "order": null,
            "overflow": null,
            "overflow_x": null,
            "overflow_y": null,
            "padding": null,
            "right": null,
            "top": null,
            "visibility": null,
            "width": null
          }
        },
        "ec00c4fdd76249ee8c779866d3053d3a": {
          "model_module": "@jupyter-widgets/controls",
          "model_name": "ProgressStyleModel",
          "model_module_version": "1.5.0",
          "state": {
            "_model_module": "@jupyter-widgets/controls",
            "_model_module_version": "1.5.0",
            "_model_name": "ProgressStyleModel",
            "_view_count": null,
            "_view_module": "@jupyter-widgets/base",
            "_view_module_version": "1.2.0",
            "_view_name": "StyleView",
            "bar_color": null,
            "description_width": ""
          }
        },
        "b722c763861f4becbe91f686515051ad": {
          "model_module": "@jupyter-widgets/base",
          "model_name": "LayoutModel",
          "model_module_version": "1.2.0",
          "state": {
            "_model_module": "@jupyter-widgets/base",
            "_model_module_version": "1.2.0",
            "_model_name": "LayoutModel",
            "_view_count": null,
            "_view_module": "@jupyter-widgets/base",
            "_view_module_version": "1.2.0",
            "_view_name": "LayoutView",
            "align_content": null,
            "align_items": null,
            "align_self": null,
            "border": null,
            "bottom": null,
            "display": null,
            "flex": null,
            "flex_flow": null,
            "grid_area": null,
            "grid_auto_columns": null,
            "grid_auto_flow": null,
            "grid_auto_rows": null,
            "grid_column": null,
            "grid_gap": null,
            "grid_row": null,
            "grid_template_areas": null,
            "grid_template_columns": null,
            "grid_template_rows": null,
            "height": null,
            "justify_content": null,
            "justify_items": null,
            "left": null,
            "margin": null,
            "max_height": null,
            "max_width": null,
            "min_height": null,
            "min_width": null,
            "object_fit": null,
            "object_position": null,
            "order": null,
            "overflow": null,
            "overflow_x": null,
            "overflow_y": null,
            "padding": null,
            "right": null,
            "top": null,
            "visibility": null,
            "width": null
          }
        },
        "fd96e18d36304e6980328bbbc0d994d9": {
          "model_module": "@jupyter-widgets/controls",
          "model_name": "DescriptionStyleModel",
          "model_module_version": "1.5.0",
          "state": {
            "_model_module": "@jupyter-widgets/controls",
            "_model_module_version": "1.5.0",
            "_model_name": "DescriptionStyleModel",
            "_view_count": null,
            "_view_module": "@jupyter-widgets/base",
            "_view_module_version": "1.2.0",
            "_view_name": "StyleView",
            "description_width": ""
          }
        }
      }
    }
  },
  "cells": [
    {
      "cell_type": "markdown",
      "source": [
        "# FashionMNIST Classification with TinyVGG\n",
        "\n",
        "**Objective**: Designed adn trained a lightweight convolutional neural network (TinyVGG) to classify FashionMNIST images, achieving **91.11% accuracy** while demonstrating core PyTorchh workflows, model optimisation, and evaluation\n",
        "\n",
        "**Key Skills**:\n",
        "1. PyTorch Proficiency: Model architecture design (nn.Module), data loading (DataLoader), and training loops\n",
        "\n",
        "2. CNN Architecture: Implemented a multi-layer CNN with ReLU activations, max pooling, and linear classification\n",
        "\n",
        "3. Research Best Practices: Hyperparameter tuning (batch size, learning rate), loss/accuracy tracking, and confusion matrix analysis\n",
        "\n",
        "4. Reproducibility: Used fixed random seeds, modular functions for training/evaluation, and visualization tools (Matplotlib, mlxtend)."
      ],
      "metadata": {
        "id": "qg1a3KSpLW0r"
      }
    },
    {
      "cell_type": "markdown",
      "source": [
        "# PyTorch workflow\n",
        "\n",
        "The workflow for this project starts off with\n",
        "1. Getting the Data ready: In our case, we import the data from `torchvision datasets`, and transform it to a tensor. We then use a `dataloader` to create batches of size 32 for the train and test datasets\n",
        "\n",
        "2. Build or Pick a Model: For our case, we decided to go for a `Baseline Model` of just the `flattener`, and the `linear layer`, and then built the `TinyVGG model architecture` on top of it. The typical structure of this is:\n",
        "\n",
        "`Input Layer` -> [`Convolutional layer` -> `activation layer` -> `pooling layer`] -> `Output layer`\n",
        "\n",
        "  Where the contents of the middle layers can be upscaled and repeated multiple times, but in our case, it is done only once\n",
        "\n",
        "3. We pick the loss function of `Cross Entropy` since it is a Multi Class Classfication and for the optimiser we pick `Stochastic Gradient Descent` since its generalization performance is good (or better compared to `Adam` or `AdamW`).\n",
        "\n",
        "4. We train the model through a loop. Starting off with 10 epochs for this test case, we put the model in `train mode`, do a `forward pass` and get the variables for prediction. Using the `loss function`, we quantify the difference betweent he actualy probability and the predicted probability. Then we `clear the gradients` of the parameters and do a `loss backward` and `fine tune the parameters` with the optimiser. We then evaluate it based on the `loss` and the `accuracy` of each epoch\n",
        "\n",
        "5. For the evaluation of the model we make predictions to see the probability the model provides for each class for an image, and take the index of the maximum probability value, and `plot a graph` showing the predicted and the true value. Additionally, we use a `confusion matrix` to evaluate the number of true positives, false positives, true negatives, and false negatives, and where the data point was actually marked"
      ],
      "metadata": {
        "id": "7oVqTIE2HKCB"
      }
    },
    {
      "cell_type": "code",
      "source": [
        "# dependencies\n",
        "import torch\n",
        "from torch import nn\n",
        "from torch.utils.data import DataLoader\n",
        "import random\n",
        "\n",
        "\n",
        "import torchvision\n",
        "from torchvision import datasets # the clothes dataset\n",
        "from torchvision.transforms import ToTensor\n",
        "\n",
        "import matplotlib.pyplot as plt\n",
        "\n",
        "try:\n",
        "    import torchmetrics, mlxtend\n",
        "    print(f\"mlxtend version: {mlxtend.__version__}\")\n",
        "    assert int(mlxtend.__version__.split(\".\")[1]) >= 19, \"mlxtend verison should be 0.19.0 or higher\"\n",
        "except:\n",
        "    !pip install -q torchmetrics -U mlxtend # <- Note: If you're using Google Colab, this may require restarting the runtime\n",
        "    import torchmetrics, mlxtend\n",
        "    print(f\"mlxtend version: {mlxtend.__version__}\")\n",
        "\n",
        "import mlxtend\n",
        "assert int(mlxtend.__version__.split(\".\")[1]) >= 19\n",
        "from tqdm.auto import tqdm\n"
      ],
      "metadata": {
        "id": "-N5gX3PPsCS7",
        "colab": {
          "base_uri": "https://localhost:8080/"
        },
        "outputId": "221b6ae2-0285-4154-b06b-0f5bc91f21ab"
      },
      "execution_count": 1,
      "outputs": [
        {
          "output_type": "stream",
          "name": "stdout",
          "text": [
            "\u001b[2K   \u001b[90m━━━━━━━━━━━━━━━━━━━━━━━━━━━━━━━━━━━━━━━━\u001b[0m \u001b[32m981.9/981.9 kB\u001b[0m \u001b[31m22.5 MB/s\u001b[0m eta \u001b[36m0:00:00\u001b[0m\n",
            "\u001b[2K   \u001b[90m━━━━━━━━━━━━━━━━━━━━━━━━━━━━━━━━━━━━━━━━\u001b[0m \u001b[32m363.4/363.4 MB\u001b[0m \u001b[31m4.0 MB/s\u001b[0m eta \u001b[36m0:00:00\u001b[0m\n",
            "\u001b[2K   \u001b[90m━━━━━━━━━━━━━━━━━━━━━━━━━━━━━━━━━━━━━━━━\u001b[0m \u001b[32m13.8/13.8 MB\u001b[0m \u001b[31m89.1 MB/s\u001b[0m eta \u001b[36m0:00:00\u001b[0m\n",
            "\u001b[2K   \u001b[90m━━━━━━━━━━━━━━━━━━━━━━━━━━━━━━━━━━━━━━━━\u001b[0m \u001b[32m24.6/24.6 MB\u001b[0m \u001b[31m70.7 MB/s\u001b[0m eta \u001b[36m0:00:00\u001b[0m\n",
            "\u001b[2K   \u001b[90m━━━━━━━━━━━━━━━━━━━━━━━━━━━━━━━━━━━━━━━━\u001b[0m \u001b[32m883.7/883.7 kB\u001b[0m \u001b[31m41.4 MB/s\u001b[0m eta \u001b[36m0:00:00\u001b[0m\n",
            "\u001b[2K   \u001b[90m━━━━━━━━━━━━━━━━━━━━━━━━━━━━━━━━━━━━━━━━\u001b[0m \u001b[32m664.8/664.8 MB\u001b[0m \u001b[31m2.7 MB/s\u001b[0m eta \u001b[36m0:00:00\u001b[0m\n",
            "\u001b[2K   \u001b[90m━━━━━━━━━━━━━━━━━━━━━━━━━━━━━━━━━━━━━━━━\u001b[0m \u001b[32m211.5/211.5 MB\u001b[0m \u001b[31m6.0 MB/s\u001b[0m eta \u001b[36m0:00:00\u001b[0m\n",
            "\u001b[2K   \u001b[90m━━━━━━━━━━━━━━━━━━━━━━━━━━━━━━━━━━━━━━━━\u001b[0m \u001b[32m56.3/56.3 MB\u001b[0m \u001b[31m14.6 MB/s\u001b[0m eta \u001b[36m0:00:00\u001b[0m\n",
            "\u001b[2K   \u001b[90m━━━━━━━━━━━━━━━━━━━━━━━━━━━━━━━━━━━━━━━━\u001b[0m \u001b[32m127.9/127.9 MB\u001b[0m \u001b[31m7.2 MB/s\u001b[0m eta \u001b[36m0:00:00\u001b[0m\n",
            "\u001b[2K   \u001b[90m━━━━━━━━━━━━━━━━━━━━━━━━━━━━━━━━━━━━━━━━\u001b[0m \u001b[32m207.5/207.5 MB\u001b[0m \u001b[31m6.2 MB/s\u001b[0m eta \u001b[36m0:00:00\u001b[0m\n",
            "\u001b[2K   \u001b[90m━━━━━━━━━━━━━━━━━━━━━━━━━━━━━━━━━━━━━━━━\u001b[0m \u001b[32m21.1/21.1 MB\u001b[0m \u001b[31m92.2 MB/s\u001b[0m eta \u001b[36m0:00:00\u001b[0m\n",
            "\u001b[?25hmlxtend version: 0.23.4\n"
          ]
        }
      ]
    },
    {
      "cell_type": "markdown",
      "source": [
        "The `FashionMNIST dataset` (60k grayscale images) is loaded with `ToTensor()` to convert PIL images to PyTorch tensors and normalized to [0, 1].\n",
        "\n",
        "`DataLoader` shuffles training data to reduce batch bias and parallelizes loading"
      ],
      "metadata": {
        "id": "Vn227MB9Mlo-"
      }
    },
    {
      "cell_type": "code",
      "source": [
        "# datasets\n",
        "train = datasets.FashionMNIST(root=\"data\", train=True, download=True, transform=ToTensor())\n",
        "\n",
        "test = datasets.FashionMNIST(root=\"data\", train=False, download=True, transform=ToTensor())"
      ],
      "metadata": {
        "id": "NIM0-nIiQ3JG",
        "colab": {
          "base_uri": "https://localhost:8080/"
        },
        "outputId": "8ab368c7-04c6-4409-fd00-17ad8b3daa75"
      },
      "execution_count": 2,
      "outputs": [
        {
          "output_type": "stream",
          "name": "stderr",
          "text": [
            "100%|██████████| 26.4M/26.4M [00:01<00:00, 13.4MB/s]\n",
            "100%|██████████| 29.5k/29.5k [00:00<00:00, 214kB/s]\n",
            "100%|██████████| 4.42M/4.42M [00:01<00:00, 3.93MB/s]\n",
            "100%|██████████| 5.15k/5.15k [00:00<00:00, 5.25MB/s]\n"
          ]
        }
      ]
    },
    {
      "cell_type": "code",
      "source": [
        "len(train), len(test)"
      ],
      "metadata": {
        "colab": {
          "base_uri": "https://localhost:8080/"
        },
        "id": "cEk0XygGR8Au",
        "outputId": "1c1c7742-18a6-4f5f-cb0d-ffa8397b1bc1"
      },
      "execution_count": 3,
      "outputs": [
        {
          "output_type": "execute_result",
          "data": {
            "text/plain": [
              "(60000, 10000)"
            ]
          },
          "metadata": {},
          "execution_count": 3
        }
      ]
    },
    {
      "cell_type": "code",
      "source": [
        "for i in range(10):\n",
        "  print(\"for index\", i, \"the labels is\", train.classes[i])\n",
        "class_names = train.classes"
      ],
      "metadata": {
        "colab": {
          "base_uri": "https://localhost:8080/"
        },
        "id": "PezbDBhETrgd",
        "outputId": "796e7534-2619-40ca-a56a-1dea2433901f"
      },
      "execution_count": 4,
      "outputs": [
        {
          "output_type": "stream",
          "name": "stdout",
          "text": [
            "for index 0 the labels is T-shirt/top\n",
            "for index 1 the labels is Trouser\n",
            "for index 2 the labels is Pullover\n",
            "for index 3 the labels is Dress\n",
            "for index 4 the labels is Coat\n",
            "for index 5 the labels is Sandal\n",
            "for index 6 the labels is Shirt\n",
            "for index 7 the labels is Sneaker\n",
            "for index 8 the labels is Bag\n",
            "for index 9 the labels is Ankle boot\n"
          ]
        }
      ]
    },
    {
      "cell_type": "code",
      "source": [
        "image = train[0][0]\n",
        "label = train[0][1]\n",
        "\n",
        "image.shape, label # since it is grey scale, the color channel is 1"
      ],
      "metadata": {
        "colab": {
          "base_uri": "https://localhost:8080/"
        },
        "id": "OJtRuaqQUlbl",
        "outputId": "2781dfab-b93d-49fb-ef59-fceb786a1ec7"
      },
      "execution_count": 5,
      "outputs": [
        {
          "output_type": "execute_result",
          "data": {
            "text/plain": [
              "(torch.Size([1, 28, 28]), 9)"
            ]
          },
          "metadata": {},
          "execution_count": 5
        }
      ]
    },
    {
      "cell_type": "code",
      "source": [
        "# visualise to see whether it is a boot or not-\n",
        "plt.imshow(image.squeeze(), cmap=\"gray\") # remove one dimension ? - remove the color channel\n",
        "plt.title(class_names[label])"
      ],
      "metadata": {
        "colab": {
          "base_uri": "https://localhost:8080/",
          "height": 469
        },
        "id": "fb6Jda6tUysE",
        "outputId": "2c468f61-d640-4213-dde4-5829d01c93dc"
      },
      "execution_count": 6,
      "outputs": [
        {
          "output_type": "execute_result",
          "data": {
            "text/plain": [
              "Text(0.5, 1.0, 'Ankle boot')"
            ]
          },
          "metadata": {},
          "execution_count": 6
        },
        {
          "output_type": "display_data",
          "data": {
            "text/plain": [
              "<Figure size 640x480 with 1 Axes>"
            ],
            "image/png": "[encoded data removed]"
          },
          "metadata": {}
        }
      ]
    },
    {
      "cell_type": "code",
      "source": [
        "# need the dataloader for the batch size and the shuffle mode?\n",
        "\n",
        "batch_size = 32 # usually people go for this number dk why\n",
        "\n",
        "train_dataloader = DataLoader(batch_size=32, shuffle=True, dataset=train)\n",
        "test_dataloader = DataLoader(test, 32, False)"
      ],
      "metadata": {
        "id": "aZ4-QMR-V8b8"
      },
      "execution_count": 7,
      "outputs": []
    },
    {
      "cell_type": "code",
      "source": [
        "next(iter(train_dataloader))[0].shape, next(iter(train_dataloader))[1].shape\n",
        "# the batch, color channel, height, width\n",
        "# label size"
      ],
      "metadata": {
        "colab": {
          "base_uri": "https://localhost:8080/"
        },
        "id": "ypgxNKRTXAGt",
        "outputId": "e203325d-a943-4b0f-90c9-8de9e28300cf"
      },
      "execution_count": 8,
      "outputs": [
        {
          "output_type": "execute_result",
          "data": {
            "text/plain": [
              "(torch.Size([32, 1, 28, 28]), torch.Size([32]))"
            ]
          },
          "metadata": {},
          "execution_count": 8
        }
      ]
    },
    {
      "cell_type": "code",
      "source": [
        "image,label = next(iter(train_dataloader))\n",
        "image = image[0][0].squeeze()\n",
        "image = image.squeeze()\n",
        "\n",
        "label = label[0]\n",
        "label = class_names[label]\n",
        "\n",
        "plt.imshow(image.squeeze(), cmap=\"gray\") # remove one dimension why? - remove the color channel\n",
        "plt.title(label)"
      ],
      "metadata": {
        "colab": {
          "base_uri": "https://localhost:8080/",
          "height": 469
        },
        "id": "Gs-CFH-IXRTV",
        "outputId": "cf4a5667-86c2-4814-8a8a-b0189c96333c"
      },
      "execution_count": 9,
      "outputs": [
        {
          "output_type": "execute_result",
          "data": {
            "text/plain": [
              "Text(0.5, 1.0, 'Sandal')"
            ]
          },
          "metadata": {},
          "execution_count": 9
        },
        {
          "output_type": "display_data",
          "data": {
            "text/plain": [
              "<Figure size 640x480 with 1 Axes>"
            ],
            "image/png": "[encoded data removed]"
          },
          "metadata": {}
        }
      ]
    },
    {
      "cell_type": "markdown",
      "source": [
        "The TinyVGG model has the following modules in it:\n",
        "1. `Conv2d()`: Applying a 2D convolution over an input composed of several input planes. We use 2D since the gray scale images are two-dimensional data\n",
        "\n",
        "2. `ReLu()`: This module introduces Non-Linearity as an activation function. It accelerates the convergence compared to sigmoid or tanh by mitigating vanishing gradients\n",
        "\n",
        "3. `MaxPool2d()`: This module selects the maximm value within the specified window and discards the rest to reduce dimensionality and emphasise on the more prominent features; it shrinks the feature map size and preserves translational invariance\n",
        "\n",
        "4. `Flatten()`: mulitplies the height and the width provided in the tensor to make it a one-dimensional vector, used for classification or regression\n"
      ],
      "metadata": {
        "id": "foC2XwNuMzbG"
      }
    },
    {
      "cell_type": "code",
      "source": [
        "# the baseline model\n",
        "class BaselineModel(nn.Module): # TinyVGG model\n",
        "  def __init__(self, input_dimensions, output_dimensions, nodes):\n",
        "    super().__init__()\n",
        "\n",
        "    self.firstLayer = nn.Sequential(\n",
        "        nn.Conv2d(input_dimensions, nodes, 3, 1,1),\n",
        "        nn.ReLU(),\n",
        "        nn.Conv2d(in_channels=nodes, out_channels=nodes, kernel_size=3, stride=1, padding=1),\n",
        "        nn.ReLU(),\n",
        "        nn.MaxPool2d(kernel_size=2) # default stride is the same as the kernel size\n",
        "    )\n",
        "\n",
        "    self.secondLayer = nn.Sequential(\n",
        "        nn.Conv2d(nodes, nodes, 3, 1,  padding=1),\n",
        "        nn.ReLU(),\n",
        "        nn.Conv2d(in_channels=nodes, out_channels=nodes, kernel_size=3, stride=1,  padding=1),\n",
        "        nn.ReLU(),\n",
        "        nn.MaxPool2d(kernel_size=2) # default stride is the same as the kernel size\n",
        "    )\n",
        "\n",
        "    self.lastLayer = nn.Sequential(\n",
        "        nn.Flatten(),\n",
        "        nn.Linear(nodes*7*7, output_dimensions)\n",
        "    )\n",
        "\n",
        "  def forward(self, x):\n",
        "    x = self.firstLayer(x)\n",
        "    x = self.secondLayer(x)\n",
        "    x = self.lastLayer(x)\n",
        "\n",
        "    return x"
      ],
      "metadata": {
        "id": "2sRF5e-XXzzN"
      },
      "execution_count": 10,
      "outputs": []
    },
    {
      "cell_type": "markdown",
      "source": [
        "For the **Loss function**, we use a *Cross Entropy Loss* `CrossEntropyLoss()` which is a standard for multi class classification along with *Stochastic Gradient Descent* `SGD()` with a high learning rate `lr=0.1` for faster convergence\n",
        "\n",
        "We do not use `Adam` or `AdamW` since the dataset is not that big, and we would like to keep the baseline model simple. Additionally, since the dataset is small, `SGD` generalises marginally better than `Adam` or `AdamW` and using the latter owuld be overkill since it uses per-parameter scaling"
      ],
      "metadata": {
        "id": "lw88QtWFOm9o"
      }
    },
    {
      "cell_type": "code",
      "source": [
        "# loss function and optimiser\n",
        "model0 = BaselineModel(1, len(class_names), 10)\n",
        "\n",
        "lossFunction = nn.CrossEntropyLoss()\n",
        "optimiserFunction = torch.optim.SGD(model0.parameters(), lr=0.1)"
      ],
      "metadata": {
        "id": "3F0Lnr764V-Z"
      },
      "execution_count": 11,
      "outputs": []
    },
    {
      "cell_type": "markdown",
      "source": [
        "The accuracy function `accuracy_fn` sees how many predicted values are true values, and provides a percentage for it"
      ],
      "metadata": {
        "id": "UyKOOk3vP7Yw"
      }
    },
    {
      "cell_type": "code",
      "source": [
        "def accuracy_fn(y_true, y_pred):\n",
        "    correct = torch.eq(y_true, y_pred).sum().item() # torch.eq() calculates where two tensors are equal\n",
        "    acc = (correct / len(y_pred)) * 100\n",
        "    return acc"
      ],
      "metadata": {
        "id": "UEJq86VK6CHN"
      },
      "execution_count": 12,
      "outputs": []
    },
    {
      "cell_type": "markdown",
      "source": [
        "The key highlights of the training loop are:\n",
        "\n",
        "1. the Gradient Management with `optimiserFunction.zero_grad()` which prevents the accumulation between batches.\n",
        "\n",
        "2. Additionally we track the metrics epoch-wise by calculating the `loss rate` and the `accuracy` with the accuracy function and the loss function `accuracy_fn` and `loss` respectively to diagnose underfitting\n",
        "\n",
        "3. Finally we use the `inference_mode()` to disable gradient computation during testing to reduce memory overhead"
      ],
      "metadata": {
        "id": "KPX0-PVRQS-b"
      }
    },
    {
      "cell_type": "code",
      "source": [
        "def train_step(model: torch.nn.Module,\n",
        "               data_loader: torch.utils.data.DataLoader,\n",
        "               loss_fn: torch.nn.Module,\n",
        "               optimizer: torch.optim.Optimizer,\n",
        "               accuracy_fn,\n",
        "               ):\n",
        "    train_loss, train_acc = 0, 0\n",
        "\n",
        "    for batch, (X, y) in enumerate(data_loader):\n",
        "        # Send data to GPU\n",
        "        X, y = X, y\n",
        "\n",
        "        # 1. Forward pass\n",
        "        y_pred = model(X)\n",
        "\n",
        "        # 2. Calculate loss\n",
        "        loss = loss_fn(y_pred, y)\n",
        "        train_loss += loss\n",
        "        train_acc += accuracy_fn(y_true=y,\n",
        "                                 y_pred=y_pred.argmax(dim=1)) # Go from logits -> pred labels\n",
        "\n",
        "        # 3. Optimizer zero grad\n",
        "        optimizer.zero_grad()\n",
        "\n",
        "        # 4. Loss backward\n",
        "        loss.backward()\n",
        "\n",
        "        # 5. Optimizer step\n",
        "        optimizer.step()\n",
        "\n",
        "    # Calculate loss and accuracy per epoch and print out what's happening\n",
        "    train_loss /= len(data_loader)\n",
        "    train_acc /= len(data_loader)\n",
        "    print(f\"Train loss: {train_loss:.5f} | Train accuracy: {train_acc:.2f}%\")"
      ],
      "metadata": {
        "id": "oyk1lEyF565I"
      },
      "execution_count": 13,
      "outputs": []
    },
    {
      "cell_type": "code",
      "source": [
        "# testing loop\n",
        "epochs = 10\n",
        "\n",
        "for epoch in range(epochs):\n",
        "  train_step(\n",
        "      model0, train_dataloader, lossFunction, optimiserFunction, accuracy_fn\n",
        "  )\n"
      ],
      "metadata": {
        "colab": {
          "base_uri": "https://localhost:8080/"
        },
        "id": "t2_JCAKx5Asn",
        "outputId": "c871b086-bf81-47a2-feaf-cac849e8bbd5"
      },
      "execution_count": 14,
      "outputs": [
        {
          "output_type": "stream",
          "name": "stdout",
          "text": [
            "Train loss: 0.59872 | Train accuracy: 78.25%\n",
            "Train loss: 0.34755 | Train accuracy: 87.46%\n",
            "Train loss: 0.30914 | Train accuracy: 88.89%\n",
            "Train loss: 0.28926 | Train accuracy: 89.49%\n",
            "Train loss: 0.27544 | Train accuracy: 89.98%\n",
            "Train loss: 0.26465 | Train accuracy: 90.44%\n",
            "Train loss: 0.25820 | Train accuracy: 90.61%\n",
            "Train loss: 0.25160 | Train accuracy: 90.93%\n",
            "Train loss: 0.24596 | Train accuracy: 91.01%\n",
            "Train loss: 0.24329 | Train accuracy: 91.06%\n"
          ]
        }
      ]
    },
    {
      "cell_type": "code",
      "source": [
        "def eval_model(model: torch.nn.Module,\n",
        "               data_loader: torch.utils.data.DataLoader,\n",
        "               loss_fn: torch.nn.Module,\n",
        "               accuracy_fn):\n",
        "\n",
        "    loss, acc = 0, 0\n",
        "    model.eval()\n",
        "    with torch.inference_mode():\n",
        "        for X, y in data_loader:\n",
        "            # Make predictions with the model\n",
        "            y_pred = model(X)\n",
        "\n",
        "            # Accumulate the loss and accuracy values per batch\n",
        "            loss += loss_fn(y_pred, y)\n",
        "            acc += accuracy_fn(y_true=y,\n",
        "                                y_pred=y_pred.argmax(dim=1)) # For accuracy, need the prediction labels (logits -> pred_prob -> pred_labels)\n",
        "\n",
        "        # Scale loss and acc to find the average loss/acc per batch\n",
        "        loss /= len(data_loader)\n",
        "        acc /= len(data_loader)\n",
        "\n",
        "    return {\"model_name\": model.__class__.__name__, # only works when model was created with a class\n",
        "            \"model_loss\": loss.item(),\n",
        "            \"model_acc\": acc}\n"
      ],
      "metadata": {
        "id": "EqbIwEJv73WB"
      },
      "execution_count": 15,
      "outputs": []
    },
    {
      "cell_type": "code",
      "source": [
        "# evaluation\n",
        "model_0_results = eval_model(model=model0, data_loader=test_dataloader,\n",
        "    loss_fn=lossFunction, accuracy_fn=accuracy_fn\n",
        ")\n",
        "\n",
        "model_0_results"
      ],
      "metadata": {
        "colab": {
          "base_uri": "https://localhost:8080/"
        },
        "id": "vNxltJB36kni",
        "outputId": "dddd7393-644c-42de-a278-ee4e0e8044ae"
      },
      "execution_count": 16,
      "outputs": [
        {
          "output_type": "execute_result",
          "data": {
            "text/plain": [
              "{'model_name': 'BaselineModel',\n",
              " 'model_loss': 0.28080689907073975,\n",
              " 'model_acc': 90.13578274760384}"
            ]
          },
          "metadata": {},
          "execution_count": 16
        }
      ]
    },
    {
      "cell_type": "markdown",
      "source": [
        "To visualise the data points, we take the probability of the predictions. For this, we using the `logit values` from the model and using `softmax`, ensure that the sum of the values equal 1 to simalute a probability out of 1.\n",
        "\n",
        "Using this probability, we take the `maximum value` as the predicted value and compare it to the true value using a `graph` for visual representation.\n",
        "\n",
        "We also use a `Confusion Matrix` and `mlxtend` to plot the confusion matrix with the probability data points we acquired"
      ],
      "metadata": {
        "id": "LMhnwqULRLjf"
      }
    },
    {
      "cell_type": "code",
      "source": [
        "def make_predictions(model: torch.nn.Module, data: list):\n",
        "    pred_probs = []\n",
        "    model.eval()\n",
        "    with torch.inference_mode():\n",
        "        for sample in data:\n",
        "            sample = torch.unsqueeze(sample, dim=0) # Add an extra dimension and send sample to device\n",
        "\n",
        "            # Forward pass\n",
        "            pred_logit = model(sample)\n",
        "\n",
        "            # Get prediction probability (logit -> prediction probability)\n",
        "            pred_prob = torch.softmax(pred_logit.squeeze(), dim=0)\n",
        "\n",
        "            pred_probs.append(pred_prob.cpu())\n",
        "\n",
        "    return torch.stack(pred_probs)"
      ],
      "metadata": {
        "id": "it2IlJ-T9Yyv"
      },
      "execution_count": 17,
      "outputs": []
    },
    {
      "cell_type": "code",
      "source": [
        "test_samples = []\n",
        "test_labels = []\n",
        "for sample, label in random.sample(list(test), k=9):\n",
        "    test_samples.append(sample)\n",
        "    test_labels.append(label)\n",
        "\n",
        "print(f\"Test sample image shape: {test_samples[0].shape}\\nTest sample label: {test_labels[0]} ({class_names[test_labels[0]]})\")"
      ],
      "metadata": {
        "colab": {
          "base_uri": "https://localhost:8080/"
        },
        "id": "dAX7vpYQ9o9X",
        "outputId": "37415edd-7046-48f3-f538-d37f44f05f7a"
      },
      "execution_count": 18,
      "outputs": [
        {
          "output_type": "stream",
          "name": "stdout",
          "text": [
            "Test sample image shape: torch.Size([1, 28, 28])\n",
            "Test sample label: 8 (Bag)\n"
          ]
        }
      ]
    },
    {
      "cell_type": "code",
      "source": [
        "pred_probs= make_predictions(model=model0,\n",
        "                             data=test_samples)\n",
        "pred_classes = pred_probs.argmax(dim=1)"
      ],
      "metadata": {
        "id": "P6ckTNs59yie"
      },
      "execution_count": 19,
      "outputs": []
    },
    {
      "cell_type": "code",
      "source": [
        "# visualise\n",
        "\n",
        "plt.figure(figsize=(9, 9))\n",
        "nrows = 3\n",
        "ncols = 3\n",
        "for i, sample in enumerate(test_samples):\n",
        "  # Create a subplot\n",
        "  plt.subplot(nrows, ncols, i+1)\n",
        "\n",
        "  # Plot the target image\n",
        "  plt.imshow(sample.squeeze(), cmap=\"gray\")\n",
        "\n",
        "  # Find the prediction label (in text form, e.g. \"Sandal\")\n",
        "  pred_label = class_names[pred_classes[i]]\n",
        "\n",
        "  # Get the truth label (in text form, e.g. \"T-shirt\")\n",
        "  truth_label = class_names[test_labels[i]]\n",
        "\n",
        "  # Create the title text of the plot\n",
        "  title_text = f\"Pred: {pred_label} | Truth: {truth_label}\"\n",
        "\n",
        "  # Check for equality and change title colour accordingly\n",
        "  if pred_label == truth_label:\n",
        "      plt.title(title_text, fontsize=10, c=\"g\") # green text if correct\n",
        "  else:\n",
        "      plt.title(title_text, fontsize=10, c=\"r\") # red text if wrong\n",
        "  plt.axis(False);"
      ],
      "metadata": {
        "colab": {
          "base_uri": "https://localhost:8080/",
          "height": 749
        },
        "id": "5Itf_Mp2-RJt",
        "outputId": "cdb73d24-eba8-4ac4-ab09-03677e088800"
      },
      "execution_count": 20,
      "outputs": [
        {
          "output_type": "display_data",
          "data": {
            "text/plain": [
              "<Figure size 900x900 with 9 Axes>"
            ],
            "image/png": "[encoded data removed]"
          },
          "metadata": {}
        }
      ]
    },
    {
      "cell_type": "code",
      "source": [
        "y_preds = []\n",
        "model0.eval()\n",
        "with torch.inference_mode():\n",
        "  for X, y in tqdm(test_dataloader, desc=\"Making predictions\"):\n",
        "    # Send data and targets to target device\n",
        "    X, y = X, y\n",
        "    # Do the forward pass\n",
        "    y_logit = model0(X)\n",
        "    # Turn predictions from logits -> prediction probabilities -> predictions labels\n",
        "    y_pred = torch.softmax(y_logit, dim=1).argmax(dim=1) # note: perform softmax on the \"logits\" dimension, not \"batch\" dimension (in this case we have a batch size of 32, so can perform on dim=1)\n",
        "    # Put predictions on CPU for evaluation\n",
        "    y_preds.append(y_pred.cpu())\n",
        "# Concatenate list of predictions into a tensor\n",
        "y_pred_tensor = torch.cat(y_preds)"
      ],
      "metadata": {
        "colab": {
          "base_uri": "https://localhost:8080/",
          "height": 49,
          "referenced_widgets": [
            "85e65160f1d74e718121a3741a8e8fb3",
            "0b6ea29adcc84628bf718256f2372e33",
            "4ada78791525416d944d34a9f5f434d5",
            "7486d95b5b8f4385b72908add7a5984b",
            "3ece92220ef24a3f8f9364c3486b0bc3",
            "4b5de6ea50f6480fa42b6d76f3269280",
            "c5c2f0525a0b48af8165a784f7896356",
            "f891537d1e054389848c2cec69279068",
            "ec00c4fdd76249ee8c779866d3053d3a",
            "b722c763861f4becbe91f686515051ad",
            "fd96e18d36304e6980328bbbc0d994d9"
          ]
        },
        "id": "G7C8ZPtG_c2w",
        "outputId": "c7578f4d-a2f2-4ca4-f7fa-ab7d4e76d464"
      },
      "execution_count": 21,
      "outputs": [
        {
          "output_type": "display_data",
          "data": {
            "text/plain": [
              "Making predictions:   0%|          | 0/313 [00:00<?, ?it/s]"
            ],
            "application/vnd.jupyter.widget-view+json": {
              "version_major": 2,
              "version_minor": 0,
              "model_id": "85e65160f1d74e718121a3741a8e8fb3"
            }
          },
          "metadata": {}
        }
      ]
    },
    {
      "cell_type": "code",
      "source": [
        "from torchmetrics import ConfusionMatrix\n",
        "from mlxtend.plotting import plot_confusion_matrix\n",
        "\n",
        "# 2. Setup confusion matrix instance and compare predictions to targets\n",
        "confmat = ConfusionMatrix(num_classes=len(class_names), task='multiclass')\n",
        "confmat_tensor = confmat(preds=y_pred_tensor,\n",
        "                         target=test.targets)\n",
        "\n",
        "# 3. Plot the confusion matrix\n",
        "fig, ax = plot_confusion_matrix(\n",
        "    conf_mat=confmat_tensor.numpy(), # matplotlib likes working with NumPy\n",
        "    class_names=class_names, # turn the row and column labels into class names\n",
        "    figsize=(10, 7)\n",
        ");"
      ],
      "metadata": {
        "colab": {
          "base_uri": "https://localhost:8080/",
          "height": 667
        },
        "id": "AeCpVF69_M1u",
        "outputId": "8b2bb4af-9fa0-4933-8ca1-5e655023c7f8"
      },
      "execution_count": 22,
      "outputs": [
        {
          "output_type": "display_data",
          "data": {
            "text/plain": [
              "<Figure size 1000x700 with 1 Axes>"
            ],
            "image/png": "[encoded data removed]"
          },
          "metadata": {}
        }
      ]
    },
    {
      "cell_type": "code",
      "source": [],
      "metadata": {
        "id": "ZX1JYAR7_v82"
      },
      "execution_count": 22,
      "outputs": []
    }
  ]
}